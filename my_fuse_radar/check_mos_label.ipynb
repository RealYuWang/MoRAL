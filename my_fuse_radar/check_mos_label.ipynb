{
 "cells": [
  {
   "cell_type": "code",
   "id": "initial_id",
   "metadata": {
    "collapsed": true,
    "ExecuteTime": {
     "end_time": "2025-04-21T13:05:46.938196Z",
     "start_time": "2025-04-21T13:05:45.945197Z"
    }
   },
   "source": [
    "from vod.configuration import KittiLocations\n",
    "from vod.frame import FrameTransformMatrix, transform_pcl, FrameDataLoader\n",
    "import numpy as np\n",
    "import k3d\n",
    "from my_fuse_radar.utils import read_kitti_label_file, plot_moving_objs_bbox\n",
    "from vod.visualization import get_radar_velocity_vectors\n",
    "kitti_locations = KittiLocations(root_dir='/datasets/vod')"
   ],
   "outputs": [
    {
     "name": "stdout",
     "output_type": "stream",
     "text": [
      "Jupyter environment detected. Enabling Open3D WebVisualizer.\n",
      "[Open3D INFO] WebRTC GUI backend enabled.\n",
      "[Open3D INFO] WebRTCWindowSystem: HTTP handshake server disabled.\n"
     ]
    }
   ],
   "execution_count": 1
  },
  {
   "metadata": {
    "ExecuteTime": {
     "end_time": "2025-04-21T13:07:04.848612Z",
     "start_time": "2025-04-21T13:07:04.838464Z"
    }
   },
   "cell_type": "code",
   "source": [
    "frame_str = '00010'\n",
    "frame_data = FrameDataLoader(kitti_locations=kitti_locations, frame_number=frame_str)\n",
    "transforms = FrameTransformMatrix(frame_data)\n",
    "\n",
    "_, moving_objs = read_kitti_label_file(frame_data.raw_labels)\n",
    "lidar_points_cf = transform_pcl(frame_data.lidar_data, transforms.t_camera_lidar)[:,:3]\n",
    "radar_points_cf = transform_pcl(frame_data.radar_data, transforms.t_camera_radar)[:,:3] # (N, 3)\n",
    "\n",
    "# label_mos = np.fromfile('/datasets/vod/my_radar_5frames/training/label_mos/00010.label', dtype=np.uint8)\n",
    "# print(len(label_mos))\n",
    "# print(label_mos)\n",
    "# moving_points = np.array(radar_points_cf[label_mos == 1])\n",
    "# static_points = np.array(radar_points_cf[label_mos == 0])\n",
    "#\n",
    "# radial_velocity = frame_data.radar_data[:, 5]\n",
    "# points_velo_vectors = get_radar_velocity_vectors(radar_points_cf, radial_velocity)"
   ],
   "id": "8391ef1fa7238492",
   "outputs": [],
   "execution_count": 4
  },
  {
   "metadata": {
    "ExecuteTime": {
     "end_time": "2025-04-21T13:26:20.517039Z",
     "start_time": "2025-04-21T13:26:20.319713Z"
    }
   },
   "cell_type": "code",
   "source": [
    "plot = k3d.plot(camera_auto_fit=False, axes_helper=True, grid_visible=False)\n",
    "# plot += k3d.points(np.array([0,0,0]), point_size=0.5, color=0x00FF00) # 原点\n",
    "plot += k3d.points(lidar_points_cf, point_size=0.05, color=0x000000)\n",
    "plot += k3d.points(radar_points_cf, point_size=0.05, color=0xFF0F00)\n",
    "plot_moving_objs_bbox(plot, moving_objs, transforms.t_lidar_camera, transforms.t_camera_lidar)\n",
    "\n",
    "# plot += k3d.points(moving_points, point_size=0.3, color=0xFF0000)\n",
    "# plot += k3d.points(static_points, point_size=0.3, color=0x0000FF)\n",
    "# plot += k3d.vectors(origins=radar_points_cf, vectors=points_velo_vectors, color=0xFF0000)\n",
    "plot.display()"
   ],
   "id": "e11de5c7c5c2d3e4",
   "outputs": [
    {
     "ename": "NameError",
     "evalue": "name 'k3d' is not defined",
     "output_type": "error",
     "traceback": [
      "\u001B[0;31m---------------------------------------------------------------------------\u001B[0m",
      "\u001B[0;31mNameError\u001B[0m                                 Traceback (most recent call last)",
      "Cell \u001B[0;32mIn[1], line 1\u001B[0m\n\u001B[0;32m----> 1\u001B[0m plot \u001B[38;5;241m=\u001B[39m \u001B[43mk3d\u001B[49m\u001B[38;5;241m.\u001B[39mplot(camera_auto_fit\u001B[38;5;241m=\u001B[39m\u001B[38;5;28;01mFalse\u001B[39;00m, axes_helper\u001B[38;5;241m=\u001B[39m\u001B[38;5;28;01mTrue\u001B[39;00m, grid_visible\u001B[38;5;241m=\u001B[39m\u001B[38;5;28;01mFalse\u001B[39;00m)\n\u001B[1;32m      2\u001B[0m \u001B[38;5;66;03m# plot += k3d.points(np.array([0,0,0]), point_size=0.5, color=0x00FF00) # 原点\u001B[39;00m\n\u001B[1;32m      3\u001B[0m plot \u001B[38;5;241m+\u001B[39m\u001B[38;5;241m=\u001B[39m k3d\u001B[38;5;241m.\u001B[39mpoints(lidar_points_cf, point_size\u001B[38;5;241m=\u001B[39m\u001B[38;5;241m0.05\u001B[39m, color\u001B[38;5;241m=\u001B[39m\u001B[38;5;241m0x000000\u001B[39m)\n",
      "\u001B[0;31mNameError\u001B[0m: name 'k3d' is not defined"
     ]
    }
   ],
   "execution_count": 1
  }
 ],
 "metadata": {
  "kernelspec": {
   "display_name": "Python 3",
   "language": "python",
   "name": "python3"
  },
  "language_info": {
   "codemirror_mode": {
    "name": "ipython",
    "version": 2
   },
   "file_extension": ".py",
   "mimetype": "text/x-python",
   "name": "python",
   "nbconvert_exporter": "python",
   "pygments_lexer": "ipython2",
   "version": "2.7.6"
  }
 },
 "nbformat": 4,
 "nbformat_minor": 5
}

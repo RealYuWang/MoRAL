{
 "cells": [
  {
   "cell_type": "code",
   "id": "initial_id",
   "metadata": {
    "ExecuteTime": {
     "end_time": "2025-04-25T10:05:04.384397Z",
     "start_time": "2025-04-25T10:05:03.478868Z"
    }
   },
   "source": [
    "import numpy as np\n",
    "from vod.configuration import KittiLocations\n",
    "from vod.frame import FrameTransformMatrix, FrameDataLoader, transform_pcl\n",
    "import k3d\n",
    "from my_fuse_radar.utils import plot_moving_objs_bbox, read_kitti_label_file, is_point_in_box, get_transformed_bbox_corners\n",
    "\n",
    "kitti_locations = KittiLocations(root_dir='/datasets/vod')"
   ],
   "outputs": [
    {
     "name": "stdout",
     "output_type": "stream",
     "text": [
      "Jupyter environment detected. Enabling Open3D WebVisualizer.\n",
      "[Open3D INFO] WebRTC GUI backend enabled.\n",
      "[Open3D INFO] WebRTCWindowSystem: HTTP handshake server disabled.\n"
     ]
    }
   ],
   "execution_count": 2
  },
  {
   "cell_type": "code",
   "id": "531a2a50a453a39",
   "metadata": {
    "ExecuteTime": {
     "end_time": "2025-04-25T10:15:24.419837Z",
     "start_time": "2025-04-25T10:15:24.085965Z"
    }
   },
   "source": [
    "# 1370帧有轿车\n",
    "frame_number = 20\n",
    "frame_data = FrameDataLoader(kitti_locations=kitti_locations, frame_number=str(frame_number).zfill(5))\n",
    "transforms = FrameTransformMatrix(frame_data)\n",
    "\n",
    "_, moving_objs = read_kitti_label_file(frame_data.raw_labels)\n",
    "\n",
    "lidar_points_cf = transform_pcl(frame_data.lidar_data, transforms.t_camera_lidar)[:,:3]\n",
    "radar_points = np.fromfile('./fused10_comp.bin', dtype=np.float32).reshape(-1, 7)\n",
    "# radar_points = np.fromfile(f'/datasets/vod/radar/training/velodyne/{str(frame_number).zfill(5)}.bin', dtype=np.float32).reshape(-1, 7)[:,:3]\n",
    "\n",
    "timestamp = radar_points[:,6]\n",
    "radar_points_cf = transform_pcl(radar_points, transforms.t_camera_radar)[:,:3]\n",
    "\n",
    "truck_obj = moving_objs[5]\n",
    "truck_obj_modified = {'id': 7,'type': 'truck','movement': '1',\n",
    "    'height': 2.9,  # 稍微变矮\n",
    "    'width': 2.6,   # 稍微变窄\n",
    "    'length': 6.7+0.2,  # 稍微变短\n",
    "    'x': 5.046-0.3,     # 保持位置不变\n",
    "    'y': 2.614,\n",
    "    'z': 8.156+0.9,\n",
    "    'rotation': -0.9906283141074347+0.02  # 向左转了一点（+0.1 rad）\n",
    "}\n",
    "\n",
    "selected_rp_cf_uncomp = []\n",
    "selected_rp_cf_comp = []\n",
    "for idx, point in enumerate(radar_points_cf):\n",
    "    if is_point_in_box(point, truck_obj, transforms.t_lidar_camera, transforms.t_camera_lidar):\n",
    "        if timestamp[idx] < -1: # 需要被补偿的点\n",
    "            selected_rp_cf_uncomp.append(point)\n",
    "        else: # 不需要补偿的点\n",
    "            selected_rp_cf_comp.append(point)\n",
    "\n",
    "selected_rp_cf_uncomp = np.array(selected_rp_cf_uncomp)\n",
    "selected_rp_cf_comp = np.array(selected_rp_cf_comp)"
   ],
   "outputs": [],
   "execution_count": 53
  },
  {
   "cell_type": "code",
   "id": "f8363082a7982b28",
   "metadata": {
    "ExecuteTime": {
     "end_time": "2025-04-25T10:15:25.830217Z",
     "start_time": "2025-04-25T10:15:25.792627Z"
    }
   },
   "source": [
    "plot = k3d.plot(camera_auto_fit=False, axes_helper=True, grid_visible=False, antialias=True)\n",
    "plot.renderer_pixel_ratio = 3.0\n",
    "\n",
    "plot_moving_objs_bbox(plot, [truck_obj, truck_obj_modified], transforms.t_lidar_camera, transforms.t_camera_lidar)\n",
    "plot_moving_objs_bbox(plot, [truck_obj_modified], transforms.t_lidar_camera, transforms.t_camera_lidar, color=0xff0000)\n",
    "\n",
    "plot += k3d.points(np.array([0,0,0]), point_size=0.5, color=0x000000)\n",
    "plot += k3d.points(lidar_points_cf, point_size=0.04, color=0x000000,shader='mesh')\n",
    "\n",
    "plot += k3d.points(selected_rp_cf_uncomp, point_size=0.2, color=0x00ff00,shader='mesh')\n",
    "plot += k3d.points(selected_rp_cf_comp, point_size=0.2, color=0xff1493,shader='mesh')\n",
    "\n",
    "plot.camera = [\n",
    "    3.4897, -8.0319, 7.5970,     # position\n",
    "    4.0071,  1.0298, 9.2022,     # look_at\n",
    "    -0.0123, -0.2280, 0.9736      # up\n",
    "]\n",
    "plot.display()"
   ],
   "outputs": [
    {
     "data": {
      "text/plain": [
       "Output()"
      ],
      "application/vnd.jupyter.widget-view+json": {
       "version_major": 2,
       "version_minor": 0,
       "model_id": "6c13b3610ad745d59efbad9ca7ba53a0"
      }
     },
     "metadata": {},
     "output_type": "display_data"
    }
   ],
   "execution_count": 54
  },
  {
   "cell_type": "code",
   "execution_count": 4,
   "id": "5a3205b3cf86c5db",
   "metadata": {
    "ExecuteTime": {
     "end_time": "2025-04-25T09:38:52.489029Z",
     "start_time": "2025-04-25T09:38:52.104612Z"
    }
   },
   "outputs": [
    {
     "name": "stderr",
     "output_type": "stream",
     "text": [
      "IOPub data rate exceeded.\n",
      "The Jupyter server will temporarily stop sending output\n",
      "to the client in order to avoid crashing it.\n",
      "To change this limit, set the config variable\n",
      "`--ServerApp.iopub_data_rate_limit`.\n",
      "\n",
      "Current values:\n",
      "ServerApp.iopub_data_rate_limit=1000000.0 (bytes/sec)\n",
      "ServerApp.rate_limit_window=3.0 (secs)\n",
      "\n"
     ]
    }
   ],
   "source": [
    "snapshot = plot.get_snapshot()\n",
    "print(snapshot)\n",
    "\n"
   ]
  }
 ],
 "metadata": {
  "kernelspec": {
   "display_name": "Python 3 (ipykernel)",
   "language": "python",
   "name": "python3"
  },
  "language_info": {
   "codemirror_mode": {
    "name": "ipython",
    "version": 3
   },
   "file_extension": ".py",
   "mimetype": "text/x-python",
   "name": "python",
   "nbconvert_exporter": "python",
   "pygments_lexer": "ipython3",
   "version": "3.8.20"
  }
 },
 "nbformat": 4,
 "nbformat_minor": 5
}
